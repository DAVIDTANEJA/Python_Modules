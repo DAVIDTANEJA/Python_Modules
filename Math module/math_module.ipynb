{
 "cells": [
  {
   "cell_type": "code",
   "execution_count": 2,
   "metadata": {},
   "outputs": [
    {
     "name": "stdout",
     "output_type": "stream",
     "text": [
      "pi :  3.141592653589793\n",
      "euler no. :  2.718281828459045\n",
      "tau value :  6.283185307179586\n"
     ]
    }
   ],
   "source": [
    "import math\n",
    "\n",
    "print('pi : ', math.pi)              # use print , gives pi value = 3.14\n",
    "print('euler no. : ', math.e)               # e- euler no.  ,   e= 2.7182..\n",
    "print('tau value : ', math.tau)             # tau- is 2 pi  = 2 * 3.14"
   ]
  },
  {
   "cell_type": "code",
   "execution_count": 4,
   "metadata": {},
   "outputs": [
    {
     "data": {
      "text/plain": [
       "12"
      ]
     },
     "execution_count": 4,
     "metadata": {},
     "output_type": "execute_result"
    }
   ],
   "source": [
    "# basic functions\n",
    "math.ceil(18.5)         # it bounds to high value , it gives- 19    \n",
    "math.floor(18.5)        # it bounds to lower value , gives - 18\n",
    "\n",
    "# math.copysign(x,y)      # it makes x float and takes y sign\n",
    "math.copysign(-1,-4)    # gives = -1.0   , (-1, 4) = 1.0  ,  (1, -4) = -1.0 ,  (1, 4) = 1.0\n",
    "\n",
    "math.factorial(5)       # gives factorial of 5 = 5*4*3*2*1 = 120\n",
    "\n",
    "math.fabs(-4)           # gives absolute value in float  =  4.0\n",
    "\n",
    "# math.gcd(x,y)          # takes two value and give 'gcd' - greatest common divisor \n",
    "math.gcd(48,36)        # give = 12 "
   ]
  },
  {
   "cell_type": "code",
   "execution_count": 6,
   "metadata": {},
   "outputs": [
    {
     "data": {
      "text/plain": [
       "0.30102999566398114"
      ]
     },
     "execution_count": 6,
     "metadata": {},
     "output_type": "execute_result"
    }
   ],
   "source": [
    "# power and logarithmic functions\n",
    "math.exp(1)            # gives exponential function and value of e=2.718..  (math.e)\n",
    "math.exp(3)            # exponential func. and become power of it 3 times , e^3= 20.085..  \n",
    "\n",
    "math.expm1(3)          # here 3 is power of exponential , then minus 1 , gives=19.085..\n",
    "\n",
    "math.log(2)          \n",
    "math.log(2,10)\n",
    "\n",
    "# math.pow(x,y)        # x = number  ,  y- power  , (8,3)  , like: 8**3  "
   ]
  },
  {
   "cell_type": "code",
   "execution_count": 9,
   "metadata": {},
   "outputs": [
    {
     "data": {
      "text/plain": [
       "1j"
      ]
     },
     "execution_count": 9,
     "metadata": {},
     "output_type": "execute_result"
    }
   ],
   "source": [
    "#square root\n",
    "math.sqrt(144)       # give square root  \n",
    "\n",
    "# math.sqrt(-1)        # give error , can not find with - math module        \n",
    "\n",
    "import cmath         # common math func.  , by this we can find square root for negative no.\n",
    "cmath.sqrt(-1)"
   ]
  },
  {
   "cell_type": "code",
   "execution_count": 10,
   "metadata": {},
   "outputs": [
    {
     "data": {
      "text/plain": [
       "1.0"
      ]
     },
     "execution_count": 10,
     "metadata": {},
     "output_type": "execute_result"
    }
   ],
   "source": [
    "# trigonometric functions\n",
    "math.sin(0)                 # gives = 0\n",
    "math.cos(0)\n",
    "math.tan(0)\n",
    "\n",
    "math.atan(0)                # a- arc\n",
    "\n",
    "math.hypot(3,4)             # gives=5, hypotenuse value and take two parameters , 9+16=25  \n",
    "\n",
    "math.degrees(1)             # converting radians into degree   1 radian = 57.29 degree\n",
    "\n",
    "math.radians(1)             # converting degree into radians   1 degree = 0.017 radian\n",
    "\n",
    "\n",
    "math.sinh(0)               # hyperbolic functions   \n",
    "math.cosh(30)\n",
    "math.tanh(30)"
   ]
  },
  {
   "cell_type": "code",
   "execution_count": 11,
   "metadata": {},
   "outputs": [
    {
     "data": {
      "text/plain": [
       "0.0"
      ]
     },
     "execution_count": 11,
     "metadata": {},
     "output_type": "execute_result"
    }
   ],
   "source": [
    "# special or advance\n",
    "math.erf(2)               # error function \n",
    "math.erfc(2)              # complementary error function   , erfc = 1-erf\n",
    "\n",
    "math.gamma(2)             # gamma function \n",
    "math.lgamma(2)            # logarithm of absolute of gamma     "
   ]
  },
  {
   "cell_type": "code",
   "execution_count": 16,
   "metadata": {},
   "outputs": [
    {
     "name": "stdout",
     "output_type": "stream",
     "text": [
      "Calculating Circle Area enter radiusc: 10\n",
      "314.159\n"
     ]
    }
   ],
   "source": [
    "# area of circle\n",
    "import math\n",
    "def area():\n",
    "    radius = int(input('Calculating Circle Area enter radiusc: '))\n",
    "    area = math.pi * radius * radius\n",
    "    print(round(area,3))  \n",
    "#     return area\n",
    "\n",
    "area()        "
   ]
  }
 ],
 "metadata": {
  "kernelspec": {
   "display_name": "Python 3",
   "language": "python",
   "name": "python3"
  },
  "language_info": {
   "codemirror_mode": {
    "name": "ipython",
    "version": 3
   },
   "file_extension": ".py",
   "mimetype": "text/x-python",
   "name": "python",
   "nbconvert_exporter": "python",
   "pygments_lexer": "ipython3",
   "version": "3.6.8"
  }
 },
 "nbformat": 4,
 "nbformat_minor": 2
}
