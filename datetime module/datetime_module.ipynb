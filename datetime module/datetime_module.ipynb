{
 "cells": [
  {
   "cell_type": "code",
   "execution_count": 1,
   "metadata": {},
   "outputs": [
    {
     "name": "stdout",
     "output_type": "stream",
     "text": [
      "13:31:06  , 03-09-2019\n",
      "01:31:06  PM , 03-09-2019\n",
      "2019-09-03 13:31:06.435204\n"
     ]
    }
   ],
   "source": [
    "import datetime\n",
    "now = datetime.datetime.now()\n",
    "print(now.strftime('%H:%M:%S  , %d-%m-%Y'))         # H -gives 24 hr.format\n",
    "print(now.strftime('%I:%M:%S  %p , %d-%m-%Y'))         # I -gives 12 hr.format , %p -used for AM:PM \n",
    "\n",
    "\n",
    "# also\n",
    "today = now.date()\n",
    "time = now.time()\n",
    "print(today , time)\n"
   ]
  },
  {
   "cell_type": "code",
   "execution_count": 2,
   "metadata": {},
   "outputs": [
    {
     "name": "stdout",
     "output_type": "stream",
     "text": [
      "2019-09-03 13:32:04.281630\n",
      "2019\n",
      "September\n"
     ]
    }
   ],
   "source": [
    "# Dates                          ,date - is not a datatype\n",
    "# but we import a module-> datetime to work with dates as date objects\n",
    "\n",
    "\n",
    "# 1.                         it simply print date and time\n",
    "import datetime\n",
    "x=datetime.datetime.now()\n",
    "print(x)\n",
    "\n",
    "\n",
    "# 2.\n",
    "# many methods to return information about the date object\n",
    "print(x.year)                      # PRINT -> YEAR\n",
    "print(x.strftime(\"%B\"))\n",
    "\n",
    "# strftime()  -> is a method, it takes only one parameter , to specify the format\n",
    "\n",
    "# import datetime                            # another way\n",
    "# x=datetime.datetime(2018,5,1)              # we can also define--> year,month,date\n",
    "# print(x.strftime(\"%c\"))"
   ]
  },
  {
   "cell_type": "code",
   "execution_count": 3,
   "metadata": {},
   "outputs": [
    {
     "name": "stdout",
     "output_type": "stream",
     "text": [
      "Time taken :  0.0\n"
     ]
    }
   ],
   "source": [
    "import time \n",
    "\n",
    "def add(a,b):\n",
    "    return a+b\n",
    "\n",
    "start = time.time()\n",
    "add(5,7)\n",
    "end = time.time()\n",
    "print('Time taken : ', start-end)   # We can also calcualte time before and after initializing time modeule any function etc."
   ]
  },
  {
   "cell_type": "code",
   "execution_count": null,
   "metadata": {},
   "outputs": [],
   "source": [
    "format codes:                                                                                                                 \n",
    "           \n",
    "# %a    Weekday, short version->\tWed                                                                              \t\n",
    "# %A    Weekday, full version->\tWednesday\t                                                                              \n",
    "# %w    Weekday as a number 0-6, 0 is Sunday->\t3  \t                                                                      \n",
    "# %d    Day of month 01-31->\t31\t                                                                                     \n",
    "# %b    Month name, short version->\tDec\t                                                                                  \n",
    "# %B    Month name, full version->\tDecember\t                                                                          \n",
    "# %m    Month as a number 01-12->\t12\t                                                                                  \n",
    "# %y    Year, short version, without century->\t18\t                                                                      \n",
    "# %Y    Year, full version->\t2018\t                                                                                  \n",
    "# %H    Hour 00-23->\t17\t                                                                                              \n",
    "# %I    Hour 00-12->\t05\t                                                                                              \n",
    "# %p    AM/PM->\tPM\t                                                                                                      \n",
    "# %M    Minute 00-59->\t41\t                                                                                               \n",
    "# %S    Second 00-59->\t08\t                                                                                              \n",
    "# %f    Microsecond 000000-999999->\t548513\t                                                                              \n",
    "# %z    UTC offset->\t+0100\t                                                                                          \n",
    "# %Z    Timezone->\tCST\t                                                                                                  \n",
    "# %j    Day number of year 001-366->\t365\t                                                                             \n",
    "# %U    Week number of year, Sunday as the first day of week, 00-53->52                                                \n",
    "# %W    Week number of year, Monday as the first day of week, 00-53->52                                                \n",
    "# %c    Local version of date and time->\tMon Dec 31 17:41:00 2018\t                                                  \n",
    "# %x    Local version of date->\t12/31/18\t                                                                              \n",
    "# %X    Local version of time->\t17:41:00\t                                                                               \n",
    "# %%    A % charate"
   ]
  }
 ],
 "metadata": {
  "kernelspec": {
   "display_name": "Python 3",
   "language": "python",
   "name": "python3"
  },
  "language_info": {
   "codemirror_mode": {
    "name": "ipython",
    "version": 3
   },
   "file_extension": ".py",
   "mimetype": "text/x-python",
   "name": "python",
   "nbconvert_exporter": "python",
   "pygments_lexer": "ipython3",
   "version": "3.6.8"
  }
 },
 "nbformat": 4,
 "nbformat_minor": 2
}
