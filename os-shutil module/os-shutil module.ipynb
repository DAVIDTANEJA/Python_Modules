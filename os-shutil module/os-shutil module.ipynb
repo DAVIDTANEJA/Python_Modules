{
 "cells": [
  {
   "cell_type": "code",
   "execution_count": 8,
   "metadata": {},
   "outputs": [],
   "source": [
    "import os"
   ]
  },
  {
   "cell_type": "code",
   "execution_count": 7,
   "metadata": {},
   "outputs": [
    {
     "data": {
      "text/plain": [
       "'C:\\\\Users\\\\DAVID TANEJA\\\\Python-DataScience-Intellipaat\\\\Python\\\\os module'"
      ]
     },
     "execution_count": 7,
     "metadata": {},
     "output_type": "execute_result"
    }
   ],
   "source": [
    "os.getcwd()        # getcwd()  - get current directory"
   ]
  },
  {
   "cell_type": "code",
   "execution_count": 25,
   "metadata": {},
   "outputs": [],
   "source": [
    "os.mkdir(r'D:\\newdir')     # create new directory anywhere we want\n",
    "os.makedirs(r'D:\\newdir\\newdir2\\newdir3')  # But os.makedirs()  : makes directory into directory "
   ]
  },
  {
   "cell_type": "code",
   "execution_count": 5,
   "metadata": {},
   "outputs": [],
   "source": [
    "os.rename('newdir','newdir2')     # rename the directory"
   ]
  },
  {
   "cell_type": "code",
   "execution_count": 3,
   "metadata": {},
   "outputs": [],
   "source": [
    "os.rmdir('newdir2')    # removes the directory only if its empty"
   ]
  },
  {
   "cell_type": "code",
   "execution_count": 6,
   "metadata": {},
   "outputs": [],
   "source": [
    "import time\n",
    "time.sleep(2)    # sleeps for 2 sec."
   ]
  },
  {
   "cell_type": "code",
   "execution_count": 9,
   "metadata": {},
   "outputs": [],
   "source": [
    "# help(os)       # use : help()  to know more "
   ]
  },
  {
   "cell_type": "code",
   "execution_count": 10,
   "metadata": {},
   "outputs": [
    {
     "data": {
      "text/plain": [
       "['.ipynb_checkpoints', 'newdir2', 'os_module.ipynb']"
      ]
     },
     "execution_count": 10,
     "metadata": {},
     "output_type": "execute_result"
    }
   ],
   "source": [
    "os.listdir()        # gives lists of all files and folders of current dir."
   ]
  },
  {
   "cell_type": "code",
   "execution_count": 11,
   "metadata": {},
   "outputs": [
    {
     "name": "stdout",
     "output_type": "stream",
     "text": [
      "C:\\Users\\DAVID TANEJA\\Python-DataScience-Intellipaat\\Python\\os module\\.ipynb_checkpoints\n",
      "C:\\Users\\DAVID TANEJA\\Python-DataScience-Intellipaat\\Python\\os module\\newdir2\n",
      "C:\\Users\\DAVID TANEJA\\Python-DataScience-Intellipaat\\Python\\os module\\os_module.ipynb\n"
     ]
    }
   ],
   "source": [
    "for item in os.listdir():                      # by this we create complete path of file\n",
    "    path = os.path.join(os.getcwd(), item)     # join() method - concatenate (cwd+item)\n",
    "    print(path)                                # item is- files in folder  "
   ]
  },
  {
   "cell_type": "code",
   "execution_count": 12,
   "metadata": {},
   "outputs": [],
   "source": [
    "# so create any folder by this method:\n",
    "if os.path.exists('movies'):\n",
    "    print('already exists')\n",
    "else:\n",
    "    os.mkdir('movies')"
   ]
  },
  {
   "cell_type": "markdown",
   "metadata": {},
   "source": [
    "#### os.walk()"
   ]
  },
  {
   "cell_type": "code",
   "execution_count": 14,
   "metadata": {},
   "outputs": [
    {
     "name": "stdout",
     "output_type": "stream",
     "text": [
      "current path : D:\\OS_module_GUI\n",
      "folder names : ['audioFiles', 'documentFiles', 'videoFiles']\n",
      "file names : []\n",
      "current path : D:\\OS_module_GUI\\audioFiles\n",
      "folder names : []\n",
      "file names : ['Lag_Ja_Gale_Saheb_Biwi_Aur_Gangster_3_Sanjay_Dutt_Chitrangada_Jonita_Gandhi_Mahie_Gill-DE7M8M-vcTQ.mp3', 'O_Saathi_Baaghi_2_Music_Video_Atif_Aslam-RIT0iUY1cyk.mp3']\n",
      "current path : D:\\OS_module_GUI\\documentFiles\n",
      "folder names : []\n",
      "file names : ['text1.txt', 'text2.txt', 'text3.txt', 'text4.txt']\n",
      "current path : D:\\OS_module_GUI\\videoFiles\n",
      "folder names : []\n",
      "file names : ['Google I_O 2008 - Dalvik Virtual Machine Internals - YouTube (360p).mp4', 'Use Pendrive As RAM_ Boost your PC with pen drive Virtual RAM (Win 7 & Win 8) - YouTube (360p).mp4']\n"
     ]
    }
   ],
   "source": [
    "# os.walk() : use to give lists of folders and files of any folder. (all files it gives)\n",
    "\n",
    "file = os.walk(r'D:\\OS_module_GUI')   \n",
    "\n",
    "for current_path, folder_names, file_names in file:\n",
    "    print(f\"current path : {current_path}\")\n",
    "    print(f\"folder names : {folder_names}\")\n",
    "    print(f\"file names : {file_names}\")"
   ]
  },
  {
   "cell_type": "code",
   "execution_count": 26,
   "metadata": {},
   "outputs": [],
   "source": [
    "os.chdir('..dirname..')    # changes the current directory"
   ]
  },
  {
   "cell_type": "markdown",
   "metadata": {},
   "source": [
    "# shutil module"
   ]
  },
  {
   "cell_type": "code",
   "execution_count": 27,
   "metadata": {},
   "outputs": [],
   "source": [
    "import shutil"
   ]
  },
  {
   "cell_type": "code",
   "execution_count": 1,
   "metadata": {},
   "outputs": [],
   "source": [
    "# shutil.rmtree('new')  # by shutil we can delete folder in folder complete \n",
    "                        # remember shutil delete permanently, not go in recycle"
   ]
  },
  {
   "cell_type": "code",
   "execution_count": 2,
   "metadata": {},
   "outputs": [],
   "source": [
    "# shutil.copytree('new', 'New folder1/new')        # it copy folder- 'new' into 'New folder1', we can rename folder-'new' also "
   ]
  },
  {
   "cell_type": "code",
   "execution_count": 3,
   "metadata": {},
   "outputs": [],
   "source": [
    "# shutil.copy('move.txt', 'New folder2/move.txt')    # copy file in newfolder2 , we can rename file"
   ]
  },
  {
   "cell_type": "code",
   "execution_count": 4,
   "metadata": {},
   "outputs": [],
   "source": [
    "# shutil.move('move.txt', 'new/movies/move2.txt')      # here we move the file in folder and rename it, we can move folder also"
   ]
  }
 ],
 "metadata": {
  "kernelspec": {
   "display_name": "Python 3",
   "language": "python",
   "name": "python3"
  },
  "language_info": {
   "codemirror_mode": {
    "name": "ipython",
    "version": 3
   },
   "file_extension": ".py",
   "mimetype": "text/x-python",
   "name": "python",
   "nbconvert_exporter": "python",
   "pygments_lexer": "ipython3",
   "version": "3.6.8"
  }
 },
 "nbformat": 4,
 "nbformat_minor": 2
}
