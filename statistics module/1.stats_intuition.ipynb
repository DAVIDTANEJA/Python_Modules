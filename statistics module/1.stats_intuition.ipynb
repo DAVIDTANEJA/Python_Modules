{
 "cells": [
  {
   "cell_type": "markdown",
   "metadata": {},
   "source": [
    "## Population vs Sample\n",
    "Lets Consider an Ex:   Find out average height of a state(assuming people value= 1 Million)                                 \n",
    "-> this state peoples 1Million becomes = Population , and we can not ask every person their height                           \n",
    "so we took some people or part of Population like : 10000, this 10000 people becomes = Sample.                               \n",
    "Basic difference is : We took Samples bcoz Population values can be very very large.                                        \n",
    "(x bar -is called mean)\n",
    "Now we calculate average height of ( Sample=10000 people ) and on this Sample we calculate average of Population.             \n",
    "        \n",
    "Ex: Exit Polls of election  (we take Sample mean based on that decide Population mean )."
   ]
  },
  {
   "cell_type": "markdown",
   "metadata": {},
   "source": [
    "<img src=\"Population vs Sample.PNG\">        "
   ]
  },
  {
   "cell_type": "code",
   "execution_count": 11,
   "metadata": {},
   "outputs": [
    {
     "name": "stdout",
     "output_type": "stream",
     "text": [
      "4.5\n",
      "4.5\n",
      "4\n",
      "5\n",
      "3.0276503540974917\n",
      "9.166666666666666\n"
     ]
    }
   ],
   "source": [
    "import statistics as st\n",
    "import numpy as np\n",
    "\n",
    "x = [0,1,2,3,4,5,6,7,8,9]\n",
    "\n",
    "print(st.mean(x))     # 45/10\n",
    "\n",
    "print(st.median(x))   \n",
    "\n",
    "print(st.median_low(x))\n",
    "\n",
    "print(st.median_high(x))\n",
    "\n",
    "# print(st.mode(x))  # takes common value \n",
    "\n",
    "print(st.stdev(x))\n",
    "\n",
    "print(st.variance(x))"
   ]
  },
  {
   "cell_type": "markdown",
   "metadata": {},
   "source": [
    "#  Gaussian Distribution  (or  Normal Distribution)\n",
    "\n",
    "Random var. two types :                                                                                                     \n",
    "1.Discrete : whole no., not be floating no.                                                                                  \n",
    "2.Continuous : within a range of values we can have any value like 10 to 15                                                  \n",
    "-> we have 10.5 or 10.7 or 14.8 or any b/w it. It can be floating or whole no.\n",
    "\n",
    "Gaussian Distribution(or Normal Distribution) :   x ~ G.D.(mean,sigma)     x-Random var.   ,  ~ -belongs to\n",
    "    \n",
    "1st Emperical formula in G.D. : Probability(mean-1sigma <= x <= mean+1sigma) = 68%                                          \n",
    "->68% will be falling under 1st stdev. (mean-sigma left  to  mean+sigma right) \n",
    "            \n",
    "2nd Emperical formula is : Probability(mean-2sigma <= x <= mean+2sigma) = 95%                                          \n",
    "                                                                                                                               \n",
    "3rd Emperical formula is : Probability(mean-3sigma <= x <= mean+3sigma) = 99.7%                                         "
   ]
  },
  {
   "cell_type": "markdown",
   "metadata": {},
   "source": [
    "<img src='GD1.PNG'>                      ex: Distribution of height"
   ]
  },
  {
   "cell_type": "markdown",
   "metadata": {},
   "source": [
    "#### we can convert G.D. -> standard normal distribution S.N.D. { where Mean=0 and stdev(sigma)=1 }\n",
    "                          S.N.D. = (xi - mean) / sigma"
   ]
  },
  {
   "cell_type": "markdown",
   "metadata": {},
   "source": [
    "# Log Normal distribution\n",
    "Log N.D.  :  x~log of N.D.    , if log(x) is Normally Distributed.\n",
    "             x = {x1,x2,x3.......xn}   , log(x1), log(x2) ...... log(xn)\n",
    "        \n",
    "Normally Distributed means : finds Bell curve.\n",
    "                                                                                                                             \n",
    "ex: Income of the people , Amazon Product Reviews (based on review length, comment length) , Sentiment analysis.  "
   ]
  },
  {
   "cell_type": "markdown",
   "metadata": {},
   "source": [
    "#### Difference b/w G.D and LogN.D. is - in  LogN.D. curve extends in end."
   ]
  },
  {
   "cell_type": "markdown",
   "metadata": {},
   "source": [
    "<img src='logND1.PNG'>"
   ]
  },
  {
   "cell_type": "markdown",
   "metadata": {},
   "source": [
    "##### There is Concept called as Q-Q plot which helps to find whether the distribution is Log normally distributed"
   ]
  },
  {
   "cell_type": "markdown",
   "metadata": {},
   "source": [
    "# Covariance\n",
    "Lets consider 2 var. :                                                                                                      \n",
    "1var = Size of the house  and    2var =  Price of the house.                                                                 \n",
    "which quantify a relation b/w Size(x) and Price(y)    ,  Size incrase then Price increase. vice-versa.                       \n",
    "Importance of  Cov : helping us to quantify relation b/w features b/w random var. in a particular dataset.                   \n",
    "                                                                                                                           \n",
    "1. if x increase and y increase = cov is +ve .     ( see:  covariance2.PNG )    \n",
    "    \n",
    "2. if x increase and y decrease = cov is -ve .     ( see : covariance3.PNG) \n",
    "    \n",
    "3. if Cov = +ve or -ve  , it does not say  How much +ve or -ve ?                                                         \n",
    "   so we use another technique->  Pearson Correlation Coefficient. "
   ]
  },
  {
   "cell_type": "markdown",
   "metadata": {},
   "source": [
    "#### cov =  1/n [summation of i=1 upto n] (x-mean of x) * (y-mean of y)"
   ]
  },
  {
   "cell_type": "markdown",
   "metadata": {},
   "source": [
    "<img src='covariance1.PNG'>"
   ]
  }
 ],
 "metadata": {
  "kernelspec": {
   "display_name": "Python 3",
   "language": "python",
   "name": "python3"
  },
  "language_info": {
   "codemirror_mode": {
    "name": "ipython",
    "version": 3
   },
   "file_extension": ".py",
   "mimetype": "text/x-python",
   "name": "python",
   "nbconvert_exporter": "python",
   "pygments_lexer": "ipython3",
   "version": "3.6.8"
  }
 },
 "nbformat": 4,
 "nbformat_minor": 2
}
