{
 "cells": [
  {
   "cell_type": "code",
   "execution_count": 4,
   "metadata": {},
   "outputs": [],
   "source": [
    "# sys module gives information about constants, functions and methods of the Python interpreter.\n",
    "# dir(system) gives a summary of the available constants, functions and methods."
   ]
  },
  {
   "cell_type": "code",
   "execution_count": 5,
   "metadata": {},
   "outputs": [],
   "source": [
    "import sys"
   ]
  },
  {
   "cell_type": "code",
   "execution_count": 6,
   "metadata": {},
   "outputs": [
    {
     "name": "stdout",
     "output_type": "stream",
     "text": [
      "['C:\\\\ProgramData\\\\Anaconda3\\\\lib\\\\site-packages\\\\ipykernel_launcher.py', '-f', 'C:\\\\Users\\\\DAVID TANEJA\\\\AppData\\\\Roaming\\\\jupyter\\\\runtime\\\\kernel-1f43f26d-7e8f-4e3c-9239-1ad3c0898fcb.json']\n"
     ]
    }
   ],
   "source": [
    "print(sys.argv)   # argument variable"
   ]
  },
  {
   "cell_type": "code",
   "execution_count": 7,
   "metadata": {},
   "outputs": [
    {
     "name": "stdout",
     "output_type": "stream",
     "text": [
      "stdout"
     ]
    },
    {
     "name": "stderr",
     "output_type": "stream",
     "text": [
      "stderr"
     ]
    }
   ],
   "source": [
    "sys.stderr.write('stderr')\n",
    "sys.stdout.write('stdout')"
   ]
  },
  {
   "cell_type": "code",
   "execution_count": null,
   "metadata": {},
   "outputs": [],
   "source": [
    "--> some basic functions <--\n",
    "sys.copyright\n",
    "sys.dllhandle\n",
    "sys.executable\n",
    "sys.getrecursionlimit()\n",
    "sys.getswitchinterval()           # sys.getcheckinterval() , sys.setcheckinterval()\n",
    "sys.getwindowsversion()\n",
    "sys.path\n",
    "sys.platform\n",
    "sys.version\n",
    "sys.api_version\n",
    "sys.winver\n",
    "sys.exit"
   ]
  }
 ],
 "metadata": {
  "kernelspec": {
   "display_name": "Python 3",
   "language": "python",
   "name": "python3"
  },
  "language_info": {
   "codemirror_mode": {
    "name": "ipython",
    "version": 3
   },
   "file_extension": ".py",
   "mimetype": "text/x-python",
   "name": "python",
   "nbconvert_exporter": "python",
   "pygments_lexer": "ipython3",
   "version": "3.6.8"
  }
 },
 "nbformat": 4,
 "nbformat_minor": 2
}
