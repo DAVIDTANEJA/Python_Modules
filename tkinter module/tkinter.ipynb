{
 "cells": [
  {
   "cell_type": "code",
   "execution_count": 2,
   "metadata": {},
   "outputs": [],
   "source": [
    "import tkinter\n",
    "from tkinter import * "
   ]
  },
  {
   "cell_type": "code",
   "execution_count": 3,
   "metadata": {},
   "outputs": [],
   "source": [
    "root = Tk()                                # root- created object of tk(), to create window for tkinter\n",
    "\n",
    "# It creates a window for tkinter gui apps and between these 2 lines we create every labels, buttons or perform any functions.\n",
    "\n",
    "root.mainloop()                            # works like: infinite while loop , used for tkinter"
   ]
  },
  {
   "cell_type": "code",
   "execution_count": null,
   "metadata": {},
   "outputs": [],
   "source": [
    "Whenever we create a Frame, labels, buttons we have to close it to work properly.\n",
    "For that we use pack(), grid(), place() :           we can use place() and pack() together. but not grid()\n",
    "pack(side=LEFT) # side=RIGHT, etc.\n",
    "grid(row=0, column=0, sticky='e') # grid uses: row-column, sticky='e' sticky : to shift the text on screen(e-east, w-west, n, s)\n",
    "place(x=0, y=70)  # place uses : x-horizontal, y-vertical , side=TOP\n",
    " \n",
    " Note : Use --> place() bcoz it uses x-y axis, it fits properly on tkinter gui screen.\n",
    "    \n",
    "--> root.title('Welcome to tkinter')           # title\n",
    "\n",
    "--> root.configure(background='grey')         # configure for bg color"
   ]
  },
  {
   "cell_type": "markdown",
   "metadata": {},
   "source": [
    "### functions to create tkinter app GUI  (some guidelines)"
   ]
  },
  {
   "cell_type": "code",
   "execution_count": null,
   "metadata": {},
   "outputs": [],
   "source": [
    "1.\n",
    "frame= Frame(root, width=200, height=200, bg=\"grey\")   # create frame \n",
    "\n",
    "def left(event):                     # event handling      # important to write - (event)\n",
    "    print(\"You have clickedd left button of mouse\")\n",
    "def right(event):                                 \n",
    "    print(\"You have clickedd right button of mouse\")\n",
    "frame.bind(\"<Button-1>\",left)\n",
    "frame.bind(\"<Button-1>\",right)\n",
    "\n",
    "    \n",
    "2.\n",
    "# set size of window created ,we can increase the size after create but not decrease by arrow(<->)\n",
    "root.minsize(width=400, height=400)        \n",
    "# root.maxsize(width=400, height=400)      # in maxsize  max size fixed and in minsize min size fixed\n",
    "# root.geometry(\"400x400\")                 # geometry -> default size sets - in this we can increase or decrease both  \n",
    "\n",
    "3.\n",
    "entry1 = Entry(root).place(x=50, y=40)  # create 'entry'  for the particular label or field\n",
    "\n",
    "4.\n",
    "check=Checkbutton(root, text=\"Remember me\").place()\n",
    "\n",
    "5.\n",
    "def subscribe():\n",
    "    print(\"Now I am going to subscribe this Hindi Coding Zone\")\n",
    "button = Button(root, command=subscribe)    # 1st define func(), then we bind functions to buttons, labels using : command    \n",
    "\n",
    "6.\n",
    "we use add_command() in place of -> add_cascade() ,coz we use command or fun() in menu, submenu\n",
    "\n",
    "import tkinter.messagebox  # using prompt message box\n",
    "def custom_quit():\n",
    "    answer= tkinter.messagebox.askokcancel(\"You want to exit.\",\"Are you sure ?\")        # (1.title, 2.message)\n",
    "    if(answer):\n",
    "        print(\"Exit\")\n",
    "        quit()\n",
    "def exitt():\n",
    "    tkinter.messagebox.showinfo('Example', 'Do you want to exit ?')\n",
    "    exit()\n",
    "menu1= Menu(root)                                  # we just put menu1 in-> root  ,and this Menu() to create menu \n",
    "root.config(menu=menu1)                            # method to pack ->menu\n",
    "\n",
    "submenu= Menu(menu1)                               # now we put submenu in -> menu1 of-> File  \n",
    "menu1.add_cascade(label=\"File\", menu=submenu)      # add_cascade()     # here we created menu1-> File  , by add_cascade()\n",
    "submenu.add_command(label=\"New Project\", command=work)        # here, in command-> work() is passed            \n",
    "submenu.add_command(label=\"Save As\")               # add_cascade()-> to add items or func. in menu or submenu\n",
    "submenu.add_command(label=\"Settings\")              \n",
    "submenu.add_command(label=\"Open File\")             # add_command() -> to pass fun() for submenu\n",
    "submenu.add_command(label=\"Exit\", command=quit)        # command=quit command is used\n",
    "submenu.add_command(label=\"Exit2\", command=custom_quit)        # custom_quit() is using   , use one b/w exit and exit2  \n",
    "\n",
    "submenu2= Menu(menu1)                              # this is submenu of ->Edit \n",
    "menu1.add_cascade(label=\"Edit\", menu=submenu2)     # use of add_cascade() \n",
    "submenu2.add_command(label=\"Cut\")\n",
    "submenu2.add_command(label=\"Copy\")                 # add_command()\n",
    "\n",
    "submenu3= Menu(menu1)                              # this is submenu of ->Edit \n",
    "menu1.add_cascade(label=\"View\", menu=submenu3)\n",
    "\n",
    "# *********adding status bar**********\n",
    "status = Label(root, text=\"Running....\", relief=SUNKEN, anchor=W, bd=1)\n",
    "status.pack(side=BOTTOM,fill=X)\n",
    "# relief - is attribute simulated effect around the widget  values are-> SUNKEN, FLAT, RAISED, GROOVE, RIDGE\n",
    "# anchor - attribute used for position-> E, W, N, S, CENTER, NE, NW, SE, SW\n",
    "# custom _quit()--> prompt messagebox  , in exit-> inplace of command=quit we pass--> custom_quit() \n",
    "\n",
    "\n",
    "7.\n",
    "wrapping things inside a class\n",
    "class MyButton:\n",
    "    def __init__(self, master, text1):\n",
    "        frame= Frame(master)\n",
    "        frame.pack()\n",
    "        self.printButton = Button(frame, text=text1, command=self.print1)\n",
    "        self.printButton.pack()\n",
    "    def print1(self):\n",
    "        print(\"This is Hindi Coding Zone\")\n",
    "\n",
    "if __name__ == \"__main__\":\n",
    "    root= Tk()\n",
    "    root.geometry(\"500x500\")\n",
    "    MyButton(root, \"Button1\")                 # so from here, we can create buttons directly \n",
    "    MyButton(root, \"Button2\")\n",
    "    root.mainloop()\n",
    "    \n",
    "8.\n",
    "ADD image\n",
    "root.wm_iconbitmap('notepad1.jpg')"
   ]
  },
  {
   "cell_type": "markdown",
   "metadata": {},
   "source": [
    "## tkinter app"
   ]
  },
  {
   "cell_type": "code",
   "execution_count": 1,
   "metadata": {},
   "outputs": [
    {
     "name": "stdout",
     "output_type": "stream",
     "text": [
      "Now I am going to subscribe this Coding Program.\n"
     ]
    }
   ],
   "source": [
    "import tkinter\n",
    "from tkinter import *\n",
    "import tkinter.messagebox    # using prompt message box\n",
    "\n",
    "root= Tk()\n",
    "\n",
    "root.minsize(width=400, height=400)   # it sets the minimum size of window we create\n",
    "\n",
    "topframe = Frame(root).pack(side=TOP)     # creating frames - topframe, bottomframe\n",
    "bottomframe = Frame(root).pack(side=BOTTOM)\n",
    "\n",
    "button1 = Button(topframe, text='File', fg='black', bg='lightgrey').pack(side=TOP)    # creating buttons\n",
    "\n",
    "def custom_quit():\n",
    "    answer= tkinter.messagebox.askokcancel(\"You want to exit.\",\"Are you sure ?\")        # (1.title, 2.message)\n",
    "    if(answer):\n",
    "        print(\"Exit\")\n",
    "        quit()\n",
    "def exitt():\n",
    "    tkinter.messagebox.showinfo('Example', 'Do you want to exit ?')\n",
    "    exit()\n",
    "button2 = Button(root, text='Exit', fg='blue', command=exitt).pack(side=BOTTOM)\n",
    "\n",
    "label1 = Label(root, text='First GUI').pack(side=TOP, fill=Y, padx=100)  # we can put label in topframe -> Label(topframe)\n",
    "\n",
    "label2 = Label(root, text='Email : ').place(x=1, y=40)   \n",
    "entry1 = Entry(root).place(x=50, y=40)  # creating 'entry'  for the particular label or field\n",
    "\n",
    "check=Checkbutton(root, text=\"Remember me\").place(x=45,y=60)    # create Checkbutton \n",
    "\n",
    "def subscribe():\n",
    "    print(\"Now I am going to subscribe this Coding Program.\")                 # create function and bind that to button, label\n",
    "button3 = Button(root, text='Subscribe', command=subscribe).place(x=1, y=80)\n",
    "\n",
    "\n",
    "\n",
    "\n",
    "\n",
    "\n",
    "root.mainloop()"
   ]
  }
 ],
 "metadata": {
  "kernelspec": {
   "display_name": "Python 3",
   "language": "python",
   "name": "python3"
  },
  "language_info": {
   "codemirror_mode": {
    "name": "ipython",
    "version": 3
   },
   "file_extension": ".py",
   "mimetype": "text/x-python",
   "name": "python",
   "nbconvert_exporter": "python",
   "pygments_lexer": "ipython3",
   "version": "3.6.8"
  }
 },
 "nbformat": 4,
 "nbformat_minor": 2
}
